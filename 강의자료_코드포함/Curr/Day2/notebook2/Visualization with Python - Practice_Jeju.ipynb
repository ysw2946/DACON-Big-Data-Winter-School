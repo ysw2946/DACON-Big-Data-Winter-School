{
 "cells": [
  {
   "cell_type": "code",
   "execution_count": 1,
   "metadata": {},
   "outputs": [
    {
     "data": {
      "text/html": [
       "<script>\n",
       "code_show=true; \n",
       "function code_toggle() {\n",
       " if (code_show){\n",
       " $('div.input').hide();\n",
       " } else {\n",
       " $('div.input').show();\n",
       " }\n",
       " code_show = !code_show\n",
       "} \n",
       "$( document ).ready(code_toggle);\n",
       "</script>\n",
       "<form action=\"javascript:code_toggle()\"><input type=\"submit\" value=\"Click here to toggle on/off the raw code.\"></form>"
      ],
      "text/plain": [
       "<IPython.core.display.HTML object>"
      ]
     },
     "execution_count": 1,
     "metadata": {},
     "output_type": "execute_result"
    }
   ],
   "source": [
    "from IPython.display import HTML\n",
    "HTML('''<script>\n",
    "code_show=true; \n",
    "function code_toggle() {\n",
    " if (code_show){\n",
    " $('div.input').hide();\n",
    " } else {\n",
    " $('div.input').show();\n",
    " }\n",
    " code_show = !code_show\n",
    "} \n",
    "$( document ).ready(code_toggle);\n",
    "</script>\n",
    "<form action=\"javascript:code_toggle()\"><input type=\"submit\" value=\"Click here to toggle on/off the raw code.\"></form>''')"
   ]
  },
  {
   "cell_type": "markdown",
   "metadata": {},
   "source": [
    "# &#128013; [One Point Tutorial] Visualization - Practice\n",
    "<p style='text-align: right;'> Python을 활용한 데이터 시각화 </p>\n",
    "<p style='text-align: right;'> December, 2019</p>\n",
    "\n",
    "---\n",
    "\n",
    "## *<font color=\"green\">실제 데이터(제주도 버스 승하차 데이터)</font>*를 기반으로 실습을 해보자!\n",
    "\n",
    "\n",
    "### 학습 목표\n",
    "`다양한 형태의 데이터`에 대한 핵심적인 시각화 기법을 이해하고 실습함\n",
    "\n",
    "### 목차\n",
    " 1. folium Basic\n",
    " 2. folium Advanced\n",
    "\n",
    " "
   ]
  },
  {
   "cell_type": "markdown",
   "metadata": {},
   "source": [
    "### <font color=\"royalblue\">첫번째</font>: Import module\n",
    "- 데이터를 불러오고 시각화를 시키기 위해 필요한 모듈을 불러옵니다!"
   ]
  },
  {
   "cell_type": "raw",
   "metadata": {},
   "source": [
    "import numpy as np\n",
    "import pandas as pd\n",
    "import matplotlib as mpl\n",
    "import matplotlib.pyplot as plt\n",
    "%matplotlib inline\n",
    "import seaborn as sns\n",
    "import folium\n",
    "\n",
    "import os"
   ]
  },
  {
   "cell_type": "code",
   "execution_count": 2,
   "metadata": {},
   "outputs": [
    {
     "name": "stdout",
     "output_type": "stream",
     "text": [
      "Current Working Directory is changed.\n"
     ]
    }
   ],
   "source": [
    "try:\n",
    "    os.chdir(\"C:\\\\Users\\\\wsSONG\\\\Desktop\\\\WORKS\\\\3.DAT\\\\191220\")\n",
    "    print(\"Current Working Directory is changed.\")\n",
    "except OSError:\n",
    "    print(\"Can't change Current Working Directory.\") "
   ]
  },
  {
   "cell_type": "markdown",
   "metadata": {},
   "source": [
    "다음 친구는 경고 메세지를 안 뜨게 해주는 모듈인데 보기 편하도록 불러오도록 하겠습니다.<br>\n",
    "(안 불러와도 크게 지장은 없는 친구입니다!)"
   ]
  },
  {
   "cell_type": "code",
   "execution_count": 3,
   "metadata": {},
   "outputs": [],
   "source": [
    "import warnings\n",
    "warnings.filterwarnings('ignore')"
   ]
  },
  {
   "cell_type": "markdown",
   "metadata": {},
   "source": [
    "다음으로, 그래프 테마를 적용하겠습니다."
   ]
  },
  {
   "cell_type": "code",
   "execution_count": 4,
   "metadata": {},
   "outputs": [],
   "source": [
    "plt.style.use('ggplot')"
   ]
  },
  {
   "cell_type": "markdown",
   "metadata": {},
   "source": [
    "### <font color=\"royalblue\">두번째</font>: import data (데이터 불러오기)\n",
    "\n",
    "- 먼저 데이터부터 다운로드 받고, 각자의 작업폴더로 파일을 이동합니다."
   ]
  },
  {
   "cell_type": "code",
   "execution_count": 6,
   "metadata": {},
   "outputs": [
    {
     "data": {
      "text/html": [
       "<div>\n",
       "<style scoped>\n",
       "    .dataframe tbody tr th:only-of-type {\n",
       "        vertical-align: middle;\n",
       "    }\n",
       "\n",
       "    .dataframe tbody tr th {\n",
       "        vertical-align: top;\n",
       "    }\n",
       "\n",
       "    .dataframe thead th {\n",
       "        text-align: right;\n",
       "    }\n",
       "</style>\n",
       "<table border=\"1\" class=\"dataframe\">\n",
       "  <thead>\n",
       "    <tr style=\"text-align: right;\">\n",
       "      <th></th>\n",
       "      <th>id</th>\n",
       "      <th>date</th>\n",
       "      <th>bus_route_id</th>\n",
       "      <th>in_out</th>\n",
       "      <th>station_code</th>\n",
       "      <th>station_name</th>\n",
       "      <th>latitude</th>\n",
       "      <th>longitude</th>\n",
       "      <th>6~7_ride</th>\n",
       "      <th>7~8_ride</th>\n",
       "      <th>...</th>\n",
       "      <th>9~10_ride</th>\n",
       "      <th>10~11_ride</th>\n",
       "      <th>11~12_ride</th>\n",
       "      <th>6~7_takeoff</th>\n",
       "      <th>7~8_takeoff</th>\n",
       "      <th>8~9_takeoff</th>\n",
       "      <th>9~10_takeoff</th>\n",
       "      <th>10~11_takeoff</th>\n",
       "      <th>11~12_takeoff</th>\n",
       "      <th>18~20_ride</th>\n",
       "    </tr>\n",
       "  </thead>\n",
       "  <tbody>\n",
       "    <tr>\n",
       "      <th>0</th>\n",
       "      <td>0</td>\n",
       "      <td>2019-09-01</td>\n",
       "      <td>4270000</td>\n",
       "      <td>시외</td>\n",
       "      <td>344</td>\n",
       "      <td>제주썬호텔</td>\n",
       "      <td>33.48990</td>\n",
       "      <td>126.49373</td>\n",
       "      <td>0.0</td>\n",
       "      <td>1.0</td>\n",
       "      <td>...</td>\n",
       "      <td>5.0</td>\n",
       "      <td>2.0</td>\n",
       "      <td>6.0</td>\n",
       "      <td>0.0</td>\n",
       "      <td>0.0</td>\n",
       "      <td>0.0</td>\n",
       "      <td>0.0</td>\n",
       "      <td>0.0</td>\n",
       "      <td>0.0</td>\n",
       "      <td>0.0</td>\n",
       "    </tr>\n",
       "    <tr>\n",
       "      <th>1</th>\n",
       "      <td>1</td>\n",
       "      <td>2019-09-01</td>\n",
       "      <td>4270000</td>\n",
       "      <td>시외</td>\n",
       "      <td>357</td>\n",
       "      <td>한라병원</td>\n",
       "      <td>33.48944</td>\n",
       "      <td>126.48508</td>\n",
       "      <td>1.0</td>\n",
       "      <td>4.0</td>\n",
       "      <td>...</td>\n",
       "      <td>2.0</td>\n",
       "      <td>5.0</td>\n",
       "      <td>6.0</td>\n",
       "      <td>0.0</td>\n",
       "      <td>0.0</td>\n",
       "      <td>0.0</td>\n",
       "      <td>0.0</td>\n",
       "      <td>0.0</td>\n",
       "      <td>0.0</td>\n",
       "      <td>5.0</td>\n",
       "    </tr>\n",
       "    <tr>\n",
       "      <th>2</th>\n",
       "      <td>2</td>\n",
       "      <td>2019-09-01</td>\n",
       "      <td>4270000</td>\n",
       "      <td>시외</td>\n",
       "      <td>432</td>\n",
       "      <td>정존마을</td>\n",
       "      <td>33.48181</td>\n",
       "      <td>126.47352</td>\n",
       "      <td>1.0</td>\n",
       "      <td>1.0</td>\n",
       "      <td>...</td>\n",
       "      <td>2.0</td>\n",
       "      <td>0.0</td>\n",
       "      <td>0.0</td>\n",
       "      <td>0.0</td>\n",
       "      <td>0.0</td>\n",
       "      <td>0.0</td>\n",
       "      <td>0.0</td>\n",
       "      <td>0.0</td>\n",
       "      <td>0.0</td>\n",
       "      <td>2.0</td>\n",
       "    </tr>\n",
       "    <tr>\n",
       "      <th>3</th>\n",
       "      <td>3</td>\n",
       "      <td>2019-09-01</td>\n",
       "      <td>4270000</td>\n",
       "      <td>시내</td>\n",
       "      <td>1579</td>\n",
       "      <td>제주국제공항(600번)</td>\n",
       "      <td>33.50577</td>\n",
       "      <td>126.49252</td>\n",
       "      <td>0.0</td>\n",
       "      <td>17.0</td>\n",
       "      <td>...</td>\n",
       "      <td>26.0</td>\n",
       "      <td>14.0</td>\n",
       "      <td>16.0</td>\n",
       "      <td>0.0</td>\n",
       "      <td>0.0</td>\n",
       "      <td>0.0</td>\n",
       "      <td>0.0</td>\n",
       "      <td>0.0</td>\n",
       "      <td>0.0</td>\n",
       "      <td>53.0</td>\n",
       "    </tr>\n",
       "    <tr>\n",
       "      <th>4</th>\n",
       "      <td>4</td>\n",
       "      <td>2019-09-01</td>\n",
       "      <td>4270000</td>\n",
       "      <td>시내</td>\n",
       "      <td>1646</td>\n",
       "      <td>중문관광단지입구</td>\n",
       "      <td>33.25579</td>\n",
       "      <td>126.41260</td>\n",
       "      <td>0.0</td>\n",
       "      <td>0.0</td>\n",
       "      <td>...</td>\n",
       "      <td>0.0</td>\n",
       "      <td>0.0</td>\n",
       "      <td>0.0</td>\n",
       "      <td>0.0</td>\n",
       "      <td>0.0</td>\n",
       "      <td>0.0</td>\n",
       "      <td>1.0</td>\n",
       "      <td>0.0</td>\n",
       "      <td>0.0</td>\n",
       "      <td>0.0</td>\n",
       "    </tr>\n",
       "  </tbody>\n",
       "</table>\n",
       "<p>5 rows × 21 columns</p>\n",
       "</div>"
      ],
      "text/plain": [
       "   id        date  bus_route_id in_out  station_code  station_name  latitude  \\\n",
       "0   0  2019-09-01       4270000     시외           344         제주썬호텔  33.48990   \n",
       "1   1  2019-09-01       4270000     시외           357          한라병원  33.48944   \n",
       "2   2  2019-09-01       4270000     시외           432          정존마을  33.48181   \n",
       "3   3  2019-09-01       4270000     시내          1579  제주국제공항(600번)  33.50577   \n",
       "4   4  2019-09-01       4270000     시내          1646      중문관광단지입구  33.25579   \n",
       "\n",
       "   longitude  6~7_ride  7~8_ride  ...  9~10_ride  10~11_ride  11~12_ride  \\\n",
       "0  126.49373       0.0       1.0  ...        5.0         2.0         6.0   \n",
       "1  126.48508       1.0       4.0  ...        2.0         5.0         6.0   \n",
       "2  126.47352       1.0       1.0  ...        2.0         0.0         0.0   \n",
       "3  126.49252       0.0      17.0  ...       26.0        14.0        16.0   \n",
       "4  126.41260       0.0       0.0  ...        0.0         0.0         0.0   \n",
       "\n",
       "   6~7_takeoff  7~8_takeoff  8~9_takeoff  9~10_takeoff  10~11_takeoff  \\\n",
       "0          0.0          0.0          0.0           0.0            0.0   \n",
       "1          0.0          0.0          0.0           0.0            0.0   \n",
       "2          0.0          0.0          0.0           0.0            0.0   \n",
       "3          0.0          0.0          0.0           0.0            0.0   \n",
       "4          0.0          0.0          0.0           1.0            0.0   \n",
       "\n",
       "   11~12_takeoff  18~20_ride  \n",
       "0            0.0         0.0  \n",
       "1            0.0         5.0  \n",
       "2            0.0         2.0  \n",
       "3            0.0        53.0  \n",
       "4            0.0         0.0  \n",
       "\n",
       "[5 rows x 21 columns]"
      ]
     },
     "execution_count": 6,
     "metadata": {},
     "output_type": "execute_result"
    }
   ],
   "source": [
    "data = pd.read_csv(\"train.csv\", encoding=\"utf8\") #encoding 방법은 개인 컴퓨터마다 다를 수 있습니다 !\n",
    "data.head()"
   ]
  },
  {
   "cell_type": "markdown",
   "metadata": {},
   "source": [
    "**<train.csv dataset 설명>**  \n",
    "2019년 9월 제주도의 각 날짜, 출근시간(6시~12시)의 버스 정류장별 승하차 인원, 퇴근시간(18시~20시)의 버스 정류장별 승차 인원 기록\n",
    "\n",
    "- 제대로 된 시각화를 위해서 변수에 대한 이해는 필수적이며, 역으로 변수에 대한 이해를 위해서도 시각화는 필수적입니다."
   ]
  },
  {
   "cell_type": "markdown",
   "metadata": {},
   "source": [
    "#### <div style=text-align:center> [ Table Description ] </div>\n",
    "|변수명|설명|\n",
    "|:---:|:---:|\n",
    "|id|해당 데이터에서의 고유한 ID|\n",
    "|date|날짜|\n",
    "|bus_route_id|버스 노선 ID|\n",
    "|in_out|시내버스, 시외버스 구분|\n",
    "|station_code|해당 승하차 정류소의 ID|\n",
    "|station_name|해당 승하차 정류소의 이름|\n",
    "|latitude|해당 버스 정류장의 위도 (같은 정류장 이름이어도 버스의 진행 방향에 따라 다를 수 있음)|\n",
    "|longtitude|해당 버스 정류장의 경도 (같은 정류장 이름이어도 버스의 진행 방향에 따라 다를 수 있음)|\n",
    "|6~7_ride|6:00:00부터 6:59:59까지 승차한 인원 수|\n",
    "|7~8_ride|7:00:00부터 7:59:59까지 승차한 인원 수|\n",
    "|8~9_ride|8:00:00부터 8:59:59까지 승차한 인원 수|\n",
    "|9~10_ride|9:00:00부터 9:59:59까지 승차한 인원 수|\n",
    "|10~11_ride|10:00:00부터 10:59:59까지 승차한 인원 수|\n",
    "|11~12_ride|11:00:00부터 11:59:59까지 승차한 인원 수|\n",
    "|6~7_takeoff|6:00:00부터 6:59:59까지 하차한 인원 수|\n",
    "|7~8_takeoff|7:00:00부터 7:59:59까지 하차한 인원 수|\n",
    "|8~9_takeoff|8:00:00부터 8:59:59까지 하차한 인원 수|\n",
    "|9~10_takeoff|9:00:00부터 9:59:59까지 하차한 인원 수|\n",
    "|10~11_takeoff|10:00:00부터 10:59:59까지 하차한 인원 수|\n",
    "|11~12_takeoff|11:00:00부터 11:59:59까지 하차한 인원 수|\n",
    "|18~20_ride|18:00:00부터 19:59:59까지 승차한 인원 수|"
   ]
  },
  {
   "cell_type": "markdown",
   "metadata": {},
   "source": [
    "### <font color=\"royalblue\">세번째</font> : 데이터 살펴보기 (간단한 EDA)\n",
    "\n",
    "#### 데이터 살펴보기"
   ]
  },
  {
   "cell_type": "code",
   "execution_count": 8,
   "metadata": {},
   "outputs": [
    {
     "name": "stdout",
     "output_type": "stream",
     "text": [
      "<class 'pandas.core.frame.DataFrame'>\n",
      "RangeIndex: 415423 entries, 0 to 415422\n",
      "Data columns (total 21 columns):\n",
      "id               415423 non-null int64\n",
      "date             415423 non-null object\n",
      "bus_route_id     415423 non-null int64\n",
      "in_out           415423 non-null object\n",
      "station_code     415423 non-null int64\n",
      "station_name     415423 non-null object\n",
      "latitude         415423 non-null float64\n",
      "longitude        415423 non-null float64\n",
      "6~7_ride         415423 non-null float64\n",
      "7~8_ride         415423 non-null float64\n",
      "8~9_ride         415423 non-null float64\n",
      "9~10_ride        415423 non-null float64\n",
      "10~11_ride       415423 non-null float64\n",
      "11~12_ride       415423 non-null float64\n",
      "6~7_takeoff      415423 non-null float64\n",
      "7~8_takeoff      415423 non-null float64\n",
      "8~9_takeoff      415423 non-null float64\n",
      "9~10_takeoff     415423 non-null float64\n",
      "10~11_takeoff    415423 non-null float64\n",
      "11~12_takeoff    415423 non-null float64\n",
      "18~20_ride       415423 non-null float64\n",
      "dtypes: float64(15), int64(3), object(3)\n",
      "memory usage: 66.6+ MB\n"
     ]
    }
   ],
   "source": [
    "data.info()"
   ]
  },
  {
   "cell_type": "markdown",
   "metadata": {},
   "source": [
    "- data는 데이터프레임의 형태를 가지고 있구나 !"
   ]
  },
  {
   "cell_type": "code",
   "execution_count": 9,
   "metadata": {},
   "outputs": [
    {
     "data": {
      "text/plain": [
       "(415423, 21)"
      ]
     },
     "execution_count": 9,
     "metadata": {},
     "output_type": "execute_result"
    }
   ],
   "source": [
    "data.shape"
   ]
  },
  {
   "cell_type": "markdown",
   "metadata": {},
   "source": [
    "- 행은 총 415423개, 열은 총 21개가 있구나 !"
   ]
  },
  {
   "cell_type": "code",
   "execution_count": 10,
   "metadata": {},
   "outputs": [
    {
     "data": {
      "text/html": [
       "<div>\n",
       "<style scoped>\n",
       "    .dataframe tbody tr th:only-of-type {\n",
       "        vertical-align: middle;\n",
       "    }\n",
       "\n",
       "    .dataframe tbody tr th {\n",
       "        vertical-align: top;\n",
       "    }\n",
       "\n",
       "    .dataframe thead th {\n",
       "        text-align: right;\n",
       "    }\n",
       "</style>\n",
       "<table border=\"1\" class=\"dataframe\">\n",
       "  <thead>\n",
       "    <tr style=\"text-align: right;\">\n",
       "      <th></th>\n",
       "      <th>id</th>\n",
       "      <th>bus_route_id</th>\n",
       "      <th>station_code</th>\n",
       "      <th>latitude</th>\n",
       "      <th>longitude</th>\n",
       "      <th>6~7_ride</th>\n",
       "      <th>7~8_ride</th>\n",
       "      <th>8~9_ride</th>\n",
       "      <th>9~10_ride</th>\n",
       "      <th>10~11_ride</th>\n",
       "      <th>11~12_ride</th>\n",
       "      <th>6~7_takeoff</th>\n",
       "      <th>7~8_takeoff</th>\n",
       "      <th>8~9_takeoff</th>\n",
       "      <th>9~10_takeoff</th>\n",
       "      <th>10~11_takeoff</th>\n",
       "      <th>11~12_takeoff</th>\n",
       "      <th>18~20_ride</th>\n",
       "    </tr>\n",
       "  </thead>\n",
       "  <tbody>\n",
       "    <tr>\n",
       "      <th>count</th>\n",
       "      <td>415423.000000</td>\n",
       "      <td>4.154230e+05</td>\n",
       "      <td>4.154230e+05</td>\n",
       "      <td>415423.000000</td>\n",
       "      <td>415423.000000</td>\n",
       "      <td>415423.000000</td>\n",
       "      <td>415423.000000</td>\n",
       "      <td>415423.000000</td>\n",
       "      <td>415423.000000</td>\n",
       "      <td>415423.000000</td>\n",
       "      <td>415423.000000</td>\n",
       "      <td>415423.000000</td>\n",
       "      <td>415423.000000</td>\n",
       "      <td>415423.000000</td>\n",
       "      <td>415423.000000</td>\n",
       "      <td>415423.000000</td>\n",
       "      <td>415423.000000</td>\n",
       "      <td>415423.000000</td>\n",
       "    </tr>\n",
       "    <tr>\n",
       "      <th>mean</th>\n",
       "      <td>207711.000000</td>\n",
       "      <td>2.691935e+07</td>\n",
       "      <td>4.209311e+04</td>\n",
       "      <td>33.420375</td>\n",
       "      <td>126.533574</td>\n",
       "      <td>0.305893</td>\n",
       "      <td>0.829699</td>\n",
       "      <td>0.815350</td>\n",
       "      <td>0.642475</td>\n",
       "      <td>0.599618</td>\n",
       "      <td>0.579393</td>\n",
       "      <td>0.112870</td>\n",
       "      <td>0.344870</td>\n",
       "      <td>0.516481</td>\n",
       "      <td>0.430922</td>\n",
       "      <td>0.408001</td>\n",
       "      <td>0.402874</td>\n",
       "      <td>1.242095</td>\n",
       "    </tr>\n",
       "    <tr>\n",
       "      <th>std</th>\n",
       "      <td>119922.434776</td>\n",
       "      <td>3.924652e+06</td>\n",
       "      <td>4.971504e+05</td>\n",
       "      <td>0.107996</td>\n",
       "      <td>0.140986</td>\n",
       "      <td>1.109766</td>\n",
       "      <td>2.255116</td>\n",
       "      <td>2.317561</td>\n",
       "      <td>1.959844</td>\n",
       "      <td>1.885941</td>\n",
       "      <td>1.942137</td>\n",
       "      <td>0.597714</td>\n",
       "      <td>1.279179</td>\n",
       "      <td>1.658850</td>\n",
       "      <td>1.485124</td>\n",
       "      <td>1.412839</td>\n",
       "      <td>1.446080</td>\n",
       "      <td>4.722287</td>\n",
       "    </tr>\n",
       "    <tr>\n",
       "      <th>min</th>\n",
       "      <td>0.000000</td>\n",
       "      <td>4.270000e+06</td>\n",
       "      <td>1.000000e+00</td>\n",
       "      <td>33.208350</td>\n",
       "      <td>126.165040</td>\n",
       "      <td>0.000000</td>\n",
       "      <td>0.000000</td>\n",
       "      <td>0.000000</td>\n",
       "      <td>0.000000</td>\n",
       "      <td>0.000000</td>\n",
       "      <td>0.000000</td>\n",
       "      <td>0.000000</td>\n",
       "      <td>0.000000</td>\n",
       "      <td>0.000000</td>\n",
       "      <td>0.000000</td>\n",
       "      <td>0.000000</td>\n",
       "      <td>0.000000</td>\n",
       "      <td>0.000000</td>\n",
       "    </tr>\n",
       "    <tr>\n",
       "      <th>25%</th>\n",
       "      <td>103855.500000</td>\n",
       "      <td>2.346000e+07</td>\n",
       "      <td>3.200000e+02</td>\n",
       "      <td>33.291080</td>\n",
       "      <td>126.475780</td>\n",
       "      <td>0.000000</td>\n",
       "      <td>0.000000</td>\n",
       "      <td>0.000000</td>\n",
       "      <td>0.000000</td>\n",
       "      <td>0.000000</td>\n",
       "      <td>0.000000</td>\n",
       "      <td>0.000000</td>\n",
       "      <td>0.000000</td>\n",
       "      <td>0.000000</td>\n",
       "      <td>0.000000</td>\n",
       "      <td>0.000000</td>\n",
       "      <td>0.000000</td>\n",
       "      <td>0.000000</td>\n",
       "    </tr>\n",
       "    <tr>\n",
       "      <th>50%</th>\n",
       "      <td>207711.000000</td>\n",
       "      <td>2.803000e+07</td>\n",
       "      <td>1.130000e+03</td>\n",
       "      <td>33.478850</td>\n",
       "      <td>126.529770</td>\n",
       "      <td>0.000000</td>\n",
       "      <td>0.000000</td>\n",
       "      <td>0.000000</td>\n",
       "      <td>0.000000</td>\n",
       "      <td>0.000000</td>\n",
       "      <td>0.000000</td>\n",
       "      <td>0.000000</td>\n",
       "      <td>0.000000</td>\n",
       "      <td>0.000000</td>\n",
       "      <td>0.000000</td>\n",
       "      <td>0.000000</td>\n",
       "      <td>0.000000</td>\n",
       "      <td>0.000000</td>\n",
       "    </tr>\n",
       "    <tr>\n",
       "      <th>75%</th>\n",
       "      <td>311566.500000</td>\n",
       "      <td>3.003000e+07</td>\n",
       "      <td>2.226000e+03</td>\n",
       "      <td>33.500020</td>\n",
       "      <td>126.575890</td>\n",
       "      <td>0.000000</td>\n",
       "      <td>1.000000</td>\n",
       "      <td>1.000000</td>\n",
       "      <td>1.000000</td>\n",
       "      <td>0.000000</td>\n",
       "      <td>0.000000</td>\n",
       "      <td>0.000000</td>\n",
       "      <td>0.000000</td>\n",
       "      <td>0.000000</td>\n",
       "      <td>0.000000</td>\n",
       "      <td>0.000000</td>\n",
       "      <td>0.000000</td>\n",
       "      <td>1.000000</td>\n",
       "    </tr>\n",
       "    <tr>\n",
       "      <th>max</th>\n",
       "      <td>415422.000000</td>\n",
       "      <td>3.282000e+07</td>\n",
       "      <td>6.115101e+06</td>\n",
       "      <td>33.963640</td>\n",
       "      <td>126.965670</td>\n",
       "      <td>85.000000</td>\n",
       "      <td>94.000000</td>\n",
       "      <td>136.000000</td>\n",
       "      <td>78.000000</td>\n",
       "      <td>124.000000</td>\n",
       "      <td>99.000000</td>\n",
       "      <td>45.000000</td>\n",
       "      <td>66.000000</td>\n",
       "      <td>59.000000</td>\n",
       "      <td>65.000000</td>\n",
       "      <td>52.000000</td>\n",
       "      <td>81.000000</td>\n",
       "      <td>272.000000</td>\n",
       "    </tr>\n",
       "  </tbody>\n",
       "</table>\n",
       "</div>"
      ],
      "text/plain": [
       "                  id  bus_route_id  station_code       latitude  \\\n",
       "count  415423.000000  4.154230e+05  4.154230e+05  415423.000000   \n",
       "mean   207711.000000  2.691935e+07  4.209311e+04      33.420375   \n",
       "std    119922.434776  3.924652e+06  4.971504e+05       0.107996   \n",
       "min         0.000000  4.270000e+06  1.000000e+00      33.208350   \n",
       "25%    103855.500000  2.346000e+07  3.200000e+02      33.291080   \n",
       "50%    207711.000000  2.803000e+07  1.130000e+03      33.478850   \n",
       "75%    311566.500000  3.003000e+07  2.226000e+03      33.500020   \n",
       "max    415422.000000  3.282000e+07  6.115101e+06      33.963640   \n",
       "\n",
       "           longitude       6~7_ride       7~8_ride       8~9_ride  \\\n",
       "count  415423.000000  415423.000000  415423.000000  415423.000000   \n",
       "mean      126.533574       0.305893       0.829699       0.815350   \n",
       "std         0.140986       1.109766       2.255116       2.317561   \n",
       "min       126.165040       0.000000       0.000000       0.000000   \n",
       "25%       126.475780       0.000000       0.000000       0.000000   \n",
       "50%       126.529770       0.000000       0.000000       0.000000   \n",
       "75%       126.575890       0.000000       1.000000       1.000000   \n",
       "max       126.965670      85.000000      94.000000     136.000000   \n",
       "\n",
       "           9~10_ride     10~11_ride     11~12_ride    6~7_takeoff  \\\n",
       "count  415423.000000  415423.000000  415423.000000  415423.000000   \n",
       "mean        0.642475       0.599618       0.579393       0.112870   \n",
       "std         1.959844       1.885941       1.942137       0.597714   \n",
       "min         0.000000       0.000000       0.000000       0.000000   \n",
       "25%         0.000000       0.000000       0.000000       0.000000   \n",
       "50%         0.000000       0.000000       0.000000       0.000000   \n",
       "75%         1.000000       0.000000       0.000000       0.000000   \n",
       "max        78.000000     124.000000      99.000000      45.000000   \n",
       "\n",
       "         7~8_takeoff    8~9_takeoff   9~10_takeoff  10~11_takeoff  \\\n",
       "count  415423.000000  415423.000000  415423.000000  415423.000000   \n",
       "mean        0.344870       0.516481       0.430922       0.408001   \n",
       "std         1.279179       1.658850       1.485124       1.412839   \n",
       "min         0.000000       0.000000       0.000000       0.000000   \n",
       "25%         0.000000       0.000000       0.000000       0.000000   \n",
       "50%         0.000000       0.000000       0.000000       0.000000   \n",
       "75%         0.000000       0.000000       0.000000       0.000000   \n",
       "max        66.000000      59.000000      65.000000      52.000000   \n",
       "\n",
       "       11~12_takeoff     18~20_ride  \n",
       "count  415423.000000  415423.000000  \n",
       "mean        0.402874       1.242095  \n",
       "std         1.446080       4.722287  \n",
       "min         0.000000       0.000000  \n",
       "25%         0.000000       0.000000  \n",
       "50%         0.000000       0.000000  \n",
       "75%         0.000000       1.000000  \n",
       "max        81.000000     272.000000  "
      ]
     },
     "execution_count": 10,
     "metadata": {},
     "output_type": "execute_result"
    }
   ],
   "source": [
    "data.describe()"
   ]
  },
  {
   "cell_type": "markdown",
   "metadata": {},
   "source": [
    "- describe() 함수는 int 형태 변수들의 빈도, 평균, 편차, 최솟값, 25%, 50%, 75%, 최댓값을 보여준다 !"
   ]
  },
  {
   "cell_type": "markdown",
   "metadata": {},
   "source": [
    "#### 데이터 변수 변환"
   ]
  },
  {
   "cell_type": "markdown",
   "metadata": {},
   "source": [
    "#### 1. date 변수 변환\n",
    "\n",
    "\n",
    "- date 변수를 datetime으로 변수형으로 변환해준다 !"
   ]
  },
  {
   "cell_type": "code",
   "execution_count": 11,
   "metadata": {},
   "outputs": [],
   "source": [
    "data['date'] = pd.to_datetime(data['date'])"
   ]
  },
  {
   "cell_type": "code",
   "execution_count": 12,
   "metadata": {},
   "outputs": [],
   "source": [
    "data['weekday'] = data['date'].dt.weekday #data에 새로운 변수 'weekday' 추가 -> 요일 정보"
   ]
  },
  {
   "cell_type": "markdown",
   "metadata": {},
   "source": [
    "- weekday 변수의 값으로는 0~6까지의 값이 들어간다 !"
   ]
  },
  {
   "cell_type": "markdown",
   "metadata": {},
   "source": [
    "#### 2. in_out 변수 변환\n",
    "\n",
    "- 시내와 시외로 나누어져 있는 in_out 변수를 변환해주자 !"
   ]
  },
  {
   "cell_type": "code",
   "execution_count": 13,
   "metadata": {},
   "outputs": [
    {
     "data": {
      "text/plain": [
       "시내    408500\n",
       "시외      6923\n",
       "Name: in_out, dtype: int64"
      ]
     },
     "execution_count": 13,
     "metadata": {},
     "output_type": "execute_result"
    }
   ],
   "source": [
    "data['in_out'].value_counts() #value_counts() 함수는 변수값의 빈도를 세어준다 !"
   ]
  },
  {
   "cell_type": "markdown",
   "metadata": {},
   "source": [
    "- 시내에 비해 시외가 값이 많이 작군 !\n",
    "- 그렇다면, map 함수를 이용하여 'in_out' 변수를 binary 변수화 시켜보자 !"
   ]
  },
  {
   "cell_type": "code",
   "execution_count": 14,
   "metadata": {},
   "outputs": [],
   "source": [
    "data['in_out'] = data['in_out'].map({'시내':0,'시외':1})"
   ]
  },
  {
   "cell_type": "markdown",
   "metadata": {},
   "source": [
    "### <font color=\"royalblue\">네번째</font> : 데이터 시각화\n",
    "\n",
    "### <font color=\"hotpink\">지도</font> 시각화\n",
    "\n",
    "#### 지도 시각화에 이용할 데이터 확인\n",
    "\n",
    "- 전체 데이터부터 확인해보자!"
   ]
  },
  {
   "cell_type": "code",
   "execution_count": 17,
   "metadata": {},
   "outputs": [
    {
     "data": {
      "text/html": [
       "<div>\n",
       "<style scoped>\n",
       "    .dataframe tbody tr th:only-of-type {\n",
       "        vertical-align: middle;\n",
       "    }\n",
       "\n",
       "    .dataframe tbody tr th {\n",
       "        vertical-align: top;\n",
       "    }\n",
       "\n",
       "    .dataframe thead th {\n",
       "        text-align: right;\n",
       "    }\n",
       "</style>\n",
       "<table border=\"1\" class=\"dataframe\">\n",
       "  <thead>\n",
       "    <tr style=\"text-align: right;\">\n",
       "      <th></th>\n",
       "      <th>id</th>\n",
       "      <th>date</th>\n",
       "      <th>bus_route_id</th>\n",
       "      <th>in_out</th>\n",
       "      <th>station_code</th>\n",
       "      <th>station_name</th>\n",
       "      <th>latitude</th>\n",
       "      <th>longitude</th>\n",
       "      <th>6~7_ride</th>\n",
       "      <th>7~8_ride</th>\n",
       "      <th>...</th>\n",
       "      <th>10~11_ride</th>\n",
       "      <th>11~12_ride</th>\n",
       "      <th>6~7_takeoff</th>\n",
       "      <th>7~8_takeoff</th>\n",
       "      <th>8~9_takeoff</th>\n",
       "      <th>9~10_takeoff</th>\n",
       "      <th>10~11_takeoff</th>\n",
       "      <th>11~12_takeoff</th>\n",
       "      <th>18~20_ride</th>\n",
       "      <th>weekday</th>\n",
       "    </tr>\n",
       "  </thead>\n",
       "  <tbody>\n",
       "    <tr>\n",
       "      <th>0</th>\n",
       "      <td>0</td>\n",
       "      <td>2019-09-01</td>\n",
       "      <td>4270000</td>\n",
       "      <td>1</td>\n",
       "      <td>344</td>\n",
       "      <td>제주썬호텔</td>\n",
       "      <td>33.48990</td>\n",
       "      <td>126.49373</td>\n",
       "      <td>0.0</td>\n",
       "      <td>1.0</td>\n",
       "      <td>...</td>\n",
       "      <td>2.0</td>\n",
       "      <td>6.0</td>\n",
       "      <td>0.0</td>\n",
       "      <td>0.0</td>\n",
       "      <td>0.0</td>\n",
       "      <td>0.0</td>\n",
       "      <td>0.0</td>\n",
       "      <td>0.0</td>\n",
       "      <td>0.0</td>\n",
       "      <td>6</td>\n",
       "    </tr>\n",
       "    <tr>\n",
       "      <th>1</th>\n",
       "      <td>1</td>\n",
       "      <td>2019-09-01</td>\n",
       "      <td>4270000</td>\n",
       "      <td>1</td>\n",
       "      <td>357</td>\n",
       "      <td>한라병원</td>\n",
       "      <td>33.48944</td>\n",
       "      <td>126.48508</td>\n",
       "      <td>1.0</td>\n",
       "      <td>4.0</td>\n",
       "      <td>...</td>\n",
       "      <td>5.0</td>\n",
       "      <td>6.0</td>\n",
       "      <td>0.0</td>\n",
       "      <td>0.0</td>\n",
       "      <td>0.0</td>\n",
       "      <td>0.0</td>\n",
       "      <td>0.0</td>\n",
       "      <td>0.0</td>\n",
       "      <td>5.0</td>\n",
       "      <td>6</td>\n",
       "    </tr>\n",
       "    <tr>\n",
       "      <th>2</th>\n",
       "      <td>2</td>\n",
       "      <td>2019-09-01</td>\n",
       "      <td>4270000</td>\n",
       "      <td>1</td>\n",
       "      <td>432</td>\n",
       "      <td>정존마을</td>\n",
       "      <td>33.48181</td>\n",
       "      <td>126.47352</td>\n",
       "      <td>1.0</td>\n",
       "      <td>1.0</td>\n",
       "      <td>...</td>\n",
       "      <td>0.0</td>\n",
       "      <td>0.0</td>\n",
       "      <td>0.0</td>\n",
       "      <td>0.0</td>\n",
       "      <td>0.0</td>\n",
       "      <td>0.0</td>\n",
       "      <td>0.0</td>\n",
       "      <td>0.0</td>\n",
       "      <td>2.0</td>\n",
       "      <td>6</td>\n",
       "    </tr>\n",
       "    <tr>\n",
       "      <th>3</th>\n",
       "      <td>3</td>\n",
       "      <td>2019-09-01</td>\n",
       "      <td>4270000</td>\n",
       "      <td>0</td>\n",
       "      <td>1579</td>\n",
       "      <td>제주국제공항(600번)</td>\n",
       "      <td>33.50577</td>\n",
       "      <td>126.49252</td>\n",
       "      <td>0.0</td>\n",
       "      <td>17.0</td>\n",
       "      <td>...</td>\n",
       "      <td>14.0</td>\n",
       "      <td>16.0</td>\n",
       "      <td>0.0</td>\n",
       "      <td>0.0</td>\n",
       "      <td>0.0</td>\n",
       "      <td>0.0</td>\n",
       "      <td>0.0</td>\n",
       "      <td>0.0</td>\n",
       "      <td>53.0</td>\n",
       "      <td>6</td>\n",
       "    </tr>\n",
       "    <tr>\n",
       "      <th>4</th>\n",
       "      <td>4</td>\n",
       "      <td>2019-09-01</td>\n",
       "      <td>4270000</td>\n",
       "      <td>0</td>\n",
       "      <td>1646</td>\n",
       "      <td>중문관광단지입구</td>\n",
       "      <td>33.25579</td>\n",
       "      <td>126.41260</td>\n",
       "      <td>0.0</td>\n",
       "      <td>0.0</td>\n",
       "      <td>...</td>\n",
       "      <td>0.0</td>\n",
       "      <td>0.0</td>\n",
       "      <td>0.0</td>\n",
       "      <td>0.0</td>\n",
       "      <td>0.0</td>\n",
       "      <td>1.0</td>\n",
       "      <td>0.0</td>\n",
       "      <td>0.0</td>\n",
       "      <td>0.0</td>\n",
       "      <td>6</td>\n",
       "    </tr>\n",
       "  </tbody>\n",
       "</table>\n",
       "<p>5 rows × 22 columns</p>\n",
       "</div>"
      ],
      "text/plain": [
       "   id       date  bus_route_id  in_out  station_code  station_name  latitude  \\\n",
       "0   0 2019-09-01       4270000       1           344         제주썬호텔  33.48990   \n",
       "1   1 2019-09-01       4270000       1           357          한라병원  33.48944   \n",
       "2   2 2019-09-01       4270000       1           432          정존마을  33.48181   \n",
       "3   3 2019-09-01       4270000       0          1579  제주국제공항(600번)  33.50577   \n",
       "4   4 2019-09-01       4270000       0          1646      중문관광단지입구  33.25579   \n",
       "\n",
       "   longitude  6~7_ride  7~8_ride  ...  10~11_ride  11~12_ride  6~7_takeoff  \\\n",
       "0  126.49373       0.0       1.0  ...         2.0         6.0          0.0   \n",
       "1  126.48508       1.0       4.0  ...         5.0         6.0          0.0   \n",
       "2  126.47352       1.0       1.0  ...         0.0         0.0          0.0   \n",
       "3  126.49252       0.0      17.0  ...        14.0        16.0          0.0   \n",
       "4  126.41260       0.0       0.0  ...         0.0         0.0          0.0   \n",
       "\n",
       "   7~8_takeoff  8~9_takeoff  9~10_takeoff  10~11_takeoff  11~12_takeoff  \\\n",
       "0          0.0          0.0           0.0            0.0            0.0   \n",
       "1          0.0          0.0           0.0            0.0            0.0   \n",
       "2          0.0          0.0           0.0            0.0            0.0   \n",
       "3          0.0          0.0           0.0            0.0            0.0   \n",
       "4          0.0          0.0           1.0            0.0            0.0   \n",
       "\n",
       "   18~20_ride  weekday  \n",
       "0         0.0        6  \n",
       "1         5.0        6  \n",
       "2         2.0        6  \n",
       "3        53.0        6  \n",
       "4         0.0        6  \n",
       "\n",
       "[5 rows x 22 columns]"
      ]
     },
     "execution_count": 17,
     "metadata": {},
     "output_type": "execute_result"
    }
   ],
   "source": [
    "data.head()"
   ]
  },
  {
   "cell_type": "markdown",
   "metadata": {},
   "source": [
    "### <font color=\"orange\">지도 시각화 기본</font>_정류장의 위치를 나타내보자!\n",
    "\n",
    "- 위도와 경도, 정류장 이름을 가져오자 !"
   ]
  },
  {
   "cell_type": "code",
   "execution_count": 18,
   "metadata": {},
   "outputs": [
    {
     "data": {
      "text/html": [
       "<div>\n",
       "<style scoped>\n",
       "    .dataframe tbody tr th:only-of-type {\n",
       "        vertical-align: middle;\n",
       "    }\n",
       "\n",
       "    .dataframe tbody tr th {\n",
       "        vertical-align: top;\n",
       "    }\n",
       "\n",
       "    .dataframe thead th {\n",
       "        text-align: right;\n",
       "    }\n",
       "</style>\n",
       "<table border=\"1\" class=\"dataframe\">\n",
       "  <thead>\n",
       "    <tr style=\"text-align: right;\">\n",
       "      <th></th>\n",
       "      <th>station_name</th>\n",
       "      <th>latitude</th>\n",
       "      <th>longitude</th>\n",
       "    </tr>\n",
       "  </thead>\n",
       "  <tbody>\n",
       "    <tr>\n",
       "      <th>0</th>\n",
       "      <td>제주썬호텔</td>\n",
       "      <td>33.48990</td>\n",
       "      <td>126.49373</td>\n",
       "    </tr>\n",
       "    <tr>\n",
       "      <th>1</th>\n",
       "      <td>한라병원</td>\n",
       "      <td>33.48944</td>\n",
       "      <td>126.48508</td>\n",
       "    </tr>\n",
       "    <tr>\n",
       "      <th>2</th>\n",
       "      <td>정존마을</td>\n",
       "      <td>33.48181</td>\n",
       "      <td>126.47352</td>\n",
       "    </tr>\n",
       "    <tr>\n",
       "      <th>3</th>\n",
       "      <td>제주국제공항(600번)</td>\n",
       "      <td>33.50577</td>\n",
       "      <td>126.49252</td>\n",
       "    </tr>\n",
       "    <tr>\n",
       "      <th>4</th>\n",
       "      <td>중문관광단지입구</td>\n",
       "      <td>33.25579</td>\n",
       "      <td>126.41260</td>\n",
       "    </tr>\n",
       "  </tbody>\n",
       "</table>\n",
       "</div>"
      ],
      "text/plain": [
       "   station_name  latitude  longitude\n",
       "0         제주썬호텔  33.48990  126.49373\n",
       "1          한라병원  33.48944  126.48508\n",
       "2          정존마을  33.48181  126.47352\n",
       "3  제주국제공항(600번)  33.50577  126.49252\n",
       "4      중문관광단지입구  33.25579  126.41260"
      ]
     },
     "execution_count": 18,
     "metadata": {},
     "output_type": "execute_result"
    }
   ],
   "source": [
    "addr2 = data[['station_name','latitude','longitude']] # 정류장 이름, 위도, 경도 뽑아내기\n",
    "addr2 = addr2.drop_duplicates() # 위치 정보가 중복될 수 있으므로 중복 행 제거\n",
    "addr2.head()"
   ]
  },
  {
   "cell_type": "markdown",
   "metadata": {},
   "source": [
    "- 데이터 양이 너무 많으면 지도 시각화 하기가 힘들기 때문에 특정 위치 정보를 추출하자 !"
   ]
  },
  {
   "cell_type": "code",
   "execution_count": 19,
   "metadata": {},
   "outputs": [],
   "source": [
    "addr2_front = addr2.sort_values(by=['latitude'], axis=0).head(10)\n",
    "addr2_tail = addr2.sort_values(by=['latitude'], axis=0).tail(10)"
   ]
  },
  {
   "cell_type": "markdown",
   "metadata": {},
   "source": [
    "- folium.Marker 함수를 이용하자 !"
   ]
  },
  {
   "cell_type": "code",
   "execution_count": 20,
   "metadata": {},
   "outputs": [
    {
     "data": {
      "text/plain": [
       "latitude      33.213454\n",
       "longitude    126.268891\n",
       "dtype: float64"
      ]
     },
     "execution_count": 20,
     "metadata": {},
     "output_type": "execute_result"
    }
   ],
   "source": [
    "addr2_front[['latitude','longitude']].mean()"
   ]
  },
  {
   "cell_type": "code",
   "execution_count": 21,
   "metadata": {},
   "outputs": [
    {
     "data": {
      "text/plain": [
       "latitude      33.962469\n",
       "longitude    126.295546\n",
       "dtype: float64"
      ]
     },
     "execution_count": 21,
     "metadata": {},
     "output_type": "execute_result"
    }
   ],
   "source": [
    "addr2_tail[['latitude','longitude']].mean()"
   ]
  },
  {
   "cell_type": "markdown",
   "metadata": {},
   "source": [
    "#### addr2_front부터 이용하자 !\n",
    "- addr2_front의 위/경도 평균으로 초기 지도 객체를 생성해주도록 하겠다 !"
   ]
  },
  {
   "cell_type": "code",
   "execution_count": 23,
   "metadata": {},
   "outputs": [
    {
     "data": {
      "text/html": [
       "<div style=\"width:100%;\"><div style=\"position:relative;width:100%;height:0;padding-bottom:60%;\"><iframe src=\"data:text/html;charset=utf-8;base64,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\" style=\"position:absolute;width:100%;height:100%;left:0;top:0;border:none !important;\" allowfullscreen webkitallowfullscreen mozallowfullscreen></iframe></div></div>"
      ],
      "text/plain": [
       "<folium.folium.Map at 0x1e906374160>"
      ]
     },
     "execution_count": 23,
     "metadata": {},
     "output_type": "execute_result"
    }
   ],
   "source": [
    "# 초기 지도 객체 생성\n",
    "map_osm = folium.Map(location=[33.2134, 126.2688], zoom_start = 12)\n",
    "map_osm"
   ]
  },
  {
   "cell_type": "markdown",
   "metadata": {},
   "source": [
    "- 이제 정류장의 위치를 표시해보자 !\n",
    "- 아이콘은 구름으로 설정해보자 !"
   ]
  },
  {
   "cell_type": "code",
   "execution_count": 24,
   "metadata": {},
   "outputs": [
    {
     "data": {
      "text/html": [
       "<div style=\"width:100%;\"><div style=\"position:relative;width:100%;height:0;padding-bottom:60%;\"><iframe src=\"data:text/html;charset=utf-8;base64,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\" style=\"position:absolute;width:100%;height:100%;left:0;top:0;border:none !important;\" allowfullscreen webkitallowfullscreen mozallowfullscreen></iframe></div></div>"
      ],
      "text/plain": [
       "<folium.folium.Map at 0x1e906374160>"
      ]
     },
     "execution_count": 24,
     "metadata": {},
     "output_type": "execute_result"
    }
   ],
   "source": [
    "for item in addr2_front.index:\n",
    "    lat = addr2_front.loc[item, 'latitude']\n",
    "    long = addr2_front.loc[item, 'longitude']\n",
    "    folium.Marker([lat, long], #위도 경도\n",
    "        popup = addr2_front.loc[item,'station_name'],\n",
    "        icon=folium.Icon(icon='cloud')\n",
    "    ).add_to(map_osm)\n",
    "map_osm"
   ]
  },
  {
   "cell_type": "markdown",
   "metadata": {},
   "source": [
    "#### addr2_tail도 이용하자 !\n",
    "\n",
    "- addr2_tail의 위/경도 평균으로 초기 지도 객체를 생성해주도록 하겠다 !\n",
    "- 테마도 한번 바꿔볼까?"
   ]
  },
  {
   "cell_type": "code",
   "execution_count": 25,
   "metadata": {},
   "outputs": [
    {
     "data": {
      "text/html": [
       "<div style=\"width:100%;\"><div style=\"position:relative;width:100%;height:0;padding-bottom:60%;\"><iframe src=\"data:text/html;charset=utf-8;base64,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\" style=\"position:absolute;width:100%;height:100%;left:0;top:0;border:none !important;\" allowfullscreen webkitallowfullscreen mozallowfullscreen></iframe></div></div>"
      ],
      "text/plain": [
       "<folium.folium.Map at 0x1e905d08da0>"
      ]
     },
     "execution_count": 25,
     "metadata": {},
     "output_type": "execute_result"
    }
   ],
   "source": [
    "# 초기 지도 객체 생성\n",
    "map_osm = folium.Map(location=[33.9624, 126.2955], tiles='Stamen Toner', zoom_start = 15)\n",
    "map_osm"
   ]
  },
  {
   "cell_type": "markdown",
   "metadata": {},
   "source": [
    "- 이번에는 새로운 아이콘을 적용해보자 !"
   ]
  },
  {
   "cell_type": "code",
   "execution_count": 26,
   "metadata": {},
   "outputs": [
    {
     "data": {
      "text/html": [
       "<div style=\"width:100%;\"><div style=\"position:relative;width:100%;height:0;padding-bottom:60%;\"><iframe src=\"data:text/html;charset=utf-8;base64,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\" style=\"position:absolute;width:100%;height:100%;left:0;top:0;border:none !important;\" allowfullscreen webkitallowfullscreen mozallowfullscreen></iframe></div></div>"
      ],
      "text/plain": [
       "<folium.folium.Map at 0x1e905d08da0>"
      ]
     },
     "execution_count": 26,
     "metadata": {},
     "output_type": "execute_result"
    }
   ],
   "source": [
    "for item in addr2_tail.index:\n",
    "    lat = addr2_tail.loc[item, 'latitude']\n",
    "    long = addr2_tail.loc[item, 'longitude']\n",
    "    folium.Marker([lat, long], #위도 경도\n",
    "        popup = addr2_tail.loc[item,'station_name'],\n",
    "        icon=folium.Icon(color='red',icon='info-sign')\n",
    "    ).add_to(map_osm)\n",
    "map_osm"
   ]
  },
  {
   "cell_type": "markdown",
   "metadata": {},
   "source": [
    "- 색은 바꿀 수 있고, 아이콘은 i라고 뜬다 !\n",
    "- tiles 옵션을 통해 지도가 보여지는 이미지도 바꿨다 !\n",
    "- 각 아이콘 누르면 정류장 이름이 뜬다 !"
   ]
  },
  {
   "cell_type": "markdown",
   "metadata": {},
   "source": [
    "### <font color=\"orange\">지도 시각화 심화</font>_특정 값과 연계하여 위치 시각화를 해보자 !\n",
    "\n",
    "- 지도 시각화를 하기 위해 필요한 데이터는 위도와 경도 !\n",
    "- 전체 데이터에서 station_code (정류장 코드)와 latitude, longitude (위도/경도) 변수를 뽑아내자! "
   ]
  },
  {
   "cell_type": "code",
   "execution_count": 27,
   "metadata": {},
   "outputs": [
    {
     "data": {
      "text/html": [
       "<div>\n",
       "<style scoped>\n",
       "    .dataframe tbody tr th:only-of-type {\n",
       "        vertical-align: middle;\n",
       "    }\n",
       "\n",
       "    .dataframe tbody tr th {\n",
       "        vertical-align: top;\n",
       "    }\n",
       "\n",
       "    .dataframe thead th {\n",
       "        text-align: right;\n",
       "    }\n",
       "</style>\n",
       "<table border=\"1\" class=\"dataframe\">\n",
       "  <thead>\n",
       "    <tr style=\"text-align: right;\">\n",
       "      <th></th>\n",
       "      <th>station_code</th>\n",
       "      <th>latitude</th>\n",
       "      <th>longitude</th>\n",
       "    </tr>\n",
       "  </thead>\n",
       "  <tbody>\n",
       "    <tr>\n",
       "      <th>0</th>\n",
       "      <td>344</td>\n",
       "      <td>33.48990</td>\n",
       "      <td>126.49373</td>\n",
       "    </tr>\n",
       "    <tr>\n",
       "      <th>1</th>\n",
       "      <td>357</td>\n",
       "      <td>33.48944</td>\n",
       "      <td>126.48508</td>\n",
       "    </tr>\n",
       "    <tr>\n",
       "      <th>2</th>\n",
       "      <td>432</td>\n",
       "      <td>33.48181</td>\n",
       "      <td>126.47352</td>\n",
       "    </tr>\n",
       "    <tr>\n",
       "      <th>3</th>\n",
       "      <td>1579</td>\n",
       "      <td>33.50577</td>\n",
       "      <td>126.49252</td>\n",
       "    </tr>\n",
       "    <tr>\n",
       "      <th>4</th>\n",
       "      <td>1646</td>\n",
       "      <td>33.25579</td>\n",
       "      <td>126.41260</td>\n",
       "    </tr>\n",
       "  </tbody>\n",
       "</table>\n",
       "</div>"
      ],
      "text/plain": [
       "   station_code  latitude  longitude\n",
       "0           344  33.48990  126.49373\n",
       "1           357  33.48944  126.48508\n",
       "2           432  33.48181  126.47352\n",
       "3          1579  33.50577  126.49252\n",
       "4          1646  33.25579  126.41260"
      ]
     },
     "execution_count": 27,
     "metadata": {},
     "output_type": "execute_result"
    }
   ],
   "source": [
    "addr = data[['station_code','latitude','longitude']] # 정류장 코드, 위도, 경도 뽑아내기\n",
    "addr = addr.drop_duplicates() # 위치 정보가 중복될 수 있으므로 중복 행 제거\n",
    "addr.head()"
   ]
  },
  {
   "cell_type": "code",
   "execution_count": 28,
   "metadata": {},
   "outputs": [
    {
     "data": {
      "text/html": [
       "<div>\n",
       "<style scoped>\n",
       "    .dataframe tbody tr th:only-of-type {\n",
       "        vertical-align: middle;\n",
       "    }\n",
       "\n",
       "    .dataframe tbody tr th {\n",
       "        vertical-align: top;\n",
       "    }\n",
       "\n",
       "    .dataframe thead th {\n",
       "        text-align: right;\n",
       "    }\n",
       "</style>\n",
       "<table border=\"1\" class=\"dataframe\">\n",
       "  <thead>\n",
       "    <tr style=\"text-align: right;\">\n",
       "      <th></th>\n",
       "      <th>station_code</th>\n",
       "      <th>ppl_sum</th>\n",
       "    </tr>\n",
       "  </thead>\n",
       "  <tbody>\n",
       "    <tr>\n",
       "      <th>0</th>\n",
       "      <td>1</td>\n",
       "      <td>263.0</td>\n",
       "    </tr>\n",
       "    <tr>\n",
       "      <th>1</th>\n",
       "      <td>2</td>\n",
       "      <td>237.0</td>\n",
       "    </tr>\n",
       "    <tr>\n",
       "      <th>2</th>\n",
       "      <td>3</td>\n",
       "      <td>28.0</td>\n",
       "    </tr>\n",
       "    <tr>\n",
       "      <th>3</th>\n",
       "      <td>4</td>\n",
       "      <td>457.0</td>\n",
       "    </tr>\n",
       "    <tr>\n",
       "      <th>4</th>\n",
       "      <td>5</td>\n",
       "      <td>168.0</td>\n",
       "    </tr>\n",
       "  </tbody>\n",
       "</table>\n",
       "</div>"
      ],
      "text/plain": [
       "   station_code  ppl_sum\n",
       "0             1    263.0\n",
       "1             2    237.0\n",
       "2             3     28.0\n",
       "3             4    457.0\n",
       "4             5    168.0"
      ]
     },
     "execution_count": 28,
     "metadata": {},
     "output_type": "execute_result"
    }
   ],
   "source": [
    "ppl = data.groupby(['station_code'], as_index=False).sum() #station_name으로 그룹화하여 sum()을 통해 더해준 변수 ppl에 저장\n",
    "ppl = ppl[['station_code','8~9_ride','8~9_takeoff']] #ppl에서 8~9시 승하차 데이터 뽑아낸다 !\n",
    "\n",
    "ppl['ppl_sum'] = ppl['8~9_ride']+ppl['8~9_takeoff'] # 승하차 인원 더해준 값 ppl에 지정\n",
    "ppl = ppl[['station_code','ppl_sum']] # 정류장 이름과 총 승하차 인원만 뽑아줌\n",
    "\n",
    "ppl.head()"
   ]
  },
  {
   "cell_type": "markdown",
   "metadata": {},
   "source": [
    "- 그렇다면 어떤 데이터를 시각화해볼까?\n",
    "- 8~9 시간대의 각 정류장 별 승/하차 인원을 지도에 보여줘볼까?\n",
    "- 그렇다면 8~9 시간대의 각 정류장 별 승/하차 인원의 정보를 알기 위해 데이터를 처리해야해!\n",
    "\n",
    "- 이제 위도, 경도, 정류장 이름, 총 승하차 인원 정보가 담긴 데이터들을 합쳐주자 !\n",
    "- pandas에 내장되어 있는 merge 함수를 이용해주면 된다 !"
   ]
  },
  {
   "cell_type": "code",
   "execution_count": 29,
   "metadata": {},
   "outputs": [
    {
     "data": {
      "text/html": [
       "<div>\n",
       "<style scoped>\n",
       "    .dataframe tbody tr th:only-of-type {\n",
       "        vertical-align: middle;\n",
       "    }\n",
       "\n",
       "    .dataframe tbody tr th {\n",
       "        vertical-align: top;\n",
       "    }\n",
       "\n",
       "    .dataframe thead th {\n",
       "        text-align: right;\n",
       "    }\n",
       "</style>\n",
       "<table border=\"1\" class=\"dataframe\">\n",
       "  <thead>\n",
       "    <tr style=\"text-align: right;\">\n",
       "      <th></th>\n",
       "      <th>station_code</th>\n",
       "      <th>ppl_sum</th>\n",
       "      <th>latitude</th>\n",
       "      <th>longitude</th>\n",
       "    </tr>\n",
       "  </thead>\n",
       "  <tbody>\n",
       "    <tr>\n",
       "      <th>3533</th>\n",
       "      <td>6115019</td>\n",
       "      <td>4.0</td>\n",
       "      <td>33.94561</td>\n",
       "      <td>126.32767</td>\n",
       "    </tr>\n",
       "    <tr>\n",
       "      <th>3534</th>\n",
       "      <td>6115020</td>\n",
       "      <td>6.0</td>\n",
       "      <td>33.94603</td>\n",
       "      <td>126.32886</td>\n",
       "    </tr>\n",
       "    <tr>\n",
       "      <th>3535</th>\n",
       "      <td>6115023</td>\n",
       "      <td>0.0</td>\n",
       "      <td>33.95359</td>\n",
       "      <td>126.33134</td>\n",
       "    </tr>\n",
       "    <tr>\n",
       "      <th>3536</th>\n",
       "      <td>6115024</td>\n",
       "      <td>56.0</td>\n",
       "      <td>33.95134</td>\n",
       "      <td>126.32771</td>\n",
       "    </tr>\n",
       "    <tr>\n",
       "      <th>3537</th>\n",
       "      <td>6115025</td>\n",
       "      <td>0.0</td>\n",
       "      <td>33.94864</td>\n",
       "      <td>126.33099</td>\n",
       "    </tr>\n",
       "  </tbody>\n",
       "</table>\n",
       "</div>"
      ],
      "text/plain": [
       "      station_code  ppl_sum  latitude  longitude\n",
       "3533       6115019      4.0  33.94561  126.32767\n",
       "3534       6115020      6.0  33.94603  126.32886\n",
       "3535       6115023      0.0  33.95359  126.33134\n",
       "3536       6115024     56.0  33.95134  126.32771\n",
       "3537       6115025      0.0  33.94864  126.33099"
      ]
     },
     "execution_count": 29,
     "metadata": {},
     "output_type": "execute_result"
    }
   ],
   "source": [
    "map_info = pd.merge(ppl, addr, how='inner') # inner join은 교집합 의미 !\n",
    "map_info.head()\n",
    "\n",
    "# 지도에 표시하기엔 데이터 양 많으니 station_code 상위 30개만 뽑아보자!\n",
    "map_front = map_info.head(30)\n",
    "map_front.head()\n",
    "\n",
    "# 이번엔 하위!\n",
    "map_tail = map_info.tail(30)\n",
    "map_tail.head()"
   ]
  },
  {
   "cell_type": "markdown",
   "metadata": {},
   "source": [
    "- 우와! 정류장 코드와 총 승하차 인원, 위도/경도만 나타내는 데이터프레임이 만들어졌다 !"
   ]
  },
  {
   "cell_type": "markdown",
   "metadata": {},
   "source": [
    "#### 본격적 지도 시각화 시작 !\n",
    "\n",
    "- 가장 먼저 처음에 로딩할 지도 객체를 생성해준다 !\n",
    "- folium.Map 함수 이용 !\n",
    "\n",
    "- 초기 지도 객체 생성해줄 때 초기 위도, 경도 값 필요하므로 일단 가지고 있는 데이터의 위도와 경도 평균으로 해주자 !\n",
    "- 아까 만들어놓은 map_info 사용 !"
   ]
  },
  {
   "cell_type": "code",
   "execution_count": 30,
   "metadata": {},
   "outputs": [
    {
     "data": {
      "text/plain": [
       "latitude      33.396730\n",
       "longitude    126.532185\n",
       "dtype: float64"
      ]
     },
     "execution_count": 30,
     "metadata": {},
     "output_type": "execute_result"
    }
   ],
   "source": [
    "map_info[['latitude','longitude']].mean()"
   ]
  },
  {
   "cell_type": "code",
   "execution_count": 31,
   "metadata": {},
   "outputs": [
    {
     "data": {
      "text/html": [
       "<div style=\"width:100%;\"><div style=\"position:relative;width:100%;height:0;padding-bottom:60%;\"><iframe src=\"data:text/html;charset=utf-8;base64,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\" style=\"position:absolute;width:100%;height:100%;left:0;top:0;border:none !important;\" allowfullscreen webkitallowfullscreen mozallowfullscreen></iframe></div></div>"
      ],
      "text/plain": [
       "<folium.folium.Map at 0x1e905cbd550>"
      ]
     },
     "execution_count": 31,
     "metadata": {},
     "output_type": "execute_result"
    }
   ],
   "source": [
    "# 초기 지도 객체 생성\n",
    "map_osm = folium.Map(location=[33.3967, 126.5321], zoom_start = 11)\n",
    "map_osm"
   ]
  },
  {
   "cell_type": "markdown",
   "metadata": {},
   "source": [
    "- 오 ~ 제주도의 거의 대부분이 나왔군 !"
   ]
  },
  {
   "cell_type": "code",
   "execution_count": 32,
   "metadata": {},
   "outputs": [
    {
     "data": {
      "text/html": [
       "<div style=\"width:100%;\"><div style=\"position:relative;width:100%;height:0;padding-bottom:60%;\"><iframe src=\"data:text/html;charset=utf-8;base64,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\" style=\"position:absolute;width:100%;height:100%;left:0;top:0;border:none !important;\" allowfullscreen webkitallowfullscreen mozallowfullscreen></iframe></div></div>"
      ],
      "text/plain": [
       "<folium.folium.Map at 0x1e905cbd550>"
      ]
     },
     "execution_count": 32,
     "metadata": {},
     "output_type": "execute_result"
    }
   ],
   "source": [
    "for item in map_front.index:\n",
    "    lat = map_front.loc[item, 'latitude']\n",
    "    long = map_front.loc[item, 'longitude']\n",
    "    folium.CircleMarker([lat, long], #위도 경도\n",
    "        radius = map_front.loc[item,'ppl_sum']/100,\n",
    "        popup = map_front.loc[item,'station_code'],\n",
    "        color = \"green\",\n",
    "        fill = True\n",
    "    ).add_to(map_osm)\n",
    "    \n",
    "map_osm"
   ]
  },
  {
   "cell_type": "markdown",
   "metadata": {},
   "source": [
    "- 상위 30개가 지도에 표시되었고, 원은 총 승하차 인원을 의미한다 !"
   ]
  },
  {
   "cell_type": "code",
   "execution_count": 33,
   "metadata": {},
   "outputs": [
    {
     "data": {
      "text/html": [
       "<div style=\"width:100%;\"><div style=\"position:relative;width:100%;height:0;padding-bottom:60%;\"><iframe src=\"data:text/html;charset=utf-8;base64,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\" style=\"position:absolute;width:100%;height:100%;left:0;top:0;border:none !important;\" allowfullscreen webkitallowfullscreen mozallowfullscreen></iframe></div></div>"
      ],
      "text/plain": [
       "<folium.folium.Map at 0x1e905cbd550>"
      ]
     },
     "execution_count": 33,
     "metadata": {},
     "output_type": "execute_result"
    }
   ],
   "source": [
    "for item in map_tail.index:\n",
    "    lat = map_tail.loc[item, 'latitude']\n",
    "    long = map_tail.loc[item, 'longitude']\n",
    "    folium.CircleMarker([lat, long], #위도 경도\n",
    "        radius = map_tail.loc[item,'ppl_sum']/100,\n",
    "        popup = map_tail.loc[item,'station_code'],\n",
    "        color = \"green\",\n",
    "        fill = True\n",
    "    ).add_to(map_osm)\n",
    "    \n",
    "map_osm"
   ]
  },
  {
   "cell_type": "markdown",
   "metadata": {},
   "source": [
    "- 하위 30개의 버스정류장은 초록색으로 표시되었는데, 이는 서귀포시쪽에 있는 것을 지도를 통해 알 수 있다 !\n",
    "- 원을 클릭하면 정류장 코드를 알 수 있다 !"
   ]
  }
 ],
 "metadata": {
  "kernelspec": {
   "display_name": "Python 3",
   "language": "python",
   "name": "python3"
  },
  "language_info": {
   "codemirror_mode": {
    "name": "ipython",
    "version": 3
   },
   "file_extension": ".py",
   "mimetype": "text/x-python",
   "name": "python",
   "nbconvert_exporter": "python",
   "pygments_lexer": "ipython3",
   "version": "3.7.3"
  }
 },
 "nbformat": 4,
 "nbformat_minor": 2
}
